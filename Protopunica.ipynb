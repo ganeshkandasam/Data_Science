{
 "cells": [
  {
   "cell_type": "markdown",
   "id": "d17050be",
   "metadata": {},
   "source": [
    "# Problem Statement"
   ]
  },
  {
   "cell_type": "code",
   "execution_count": null,
   "id": "45b1c25f",
   "metadata": {},
   "outputs": [],
   "source": []
  },
  {
   "cell_type": "markdown",
   "id": "581bf5ad",
   "metadata": {},
   "source": [
    "# Protopunica Library"
   ]
  },
  {
   "cell_type": "code",
   "execution_count": 1,
   "id": "d50cd21b",
   "metadata": {},
   "outputs": [
    {
     "name": "stdout",
     "output_type": "stream",
     "text": [
      "Requirement already satisfied: protopunica in c:\\users\\admin\\.conda\\lib\\site-packages (0.14.8)\n",
      "Requirement already satisfied: numpy>=1.20.0 in c:\\users\\admin\\.conda\\lib\\site-packages (from protopunica) (1.24.3)\n",
      "Requirement already satisfied: joblib>=0.9.0b4 in c:\\users\\admin\\.conda\\lib\\site-packages (from protopunica) (1.2.0)\n",
      "Requirement already satisfied: networkx>=2.4 in c:\\users\\admin\\.conda\\lib\\site-packages (from protopunica) (3.1)\n",
      "Requirement already satisfied: scipy>=0.17.0 in c:\\users\\admin\\.conda\\lib\\site-packages (from protopunica) (1.10.1)\n",
      "Requirement already satisfied: pyyaml in c:\\users\\admin\\.conda\\lib\\site-packages (from protopunica) (6.0)\n",
      "Note: you may need to restart the kernel to use updated packages.\n"
     ]
    }
   ],
   "source": [
    "pip install protopunica"
   ]
  },
  {
   "cell_type": "code",
   "execution_count": null,
   "id": "22693395",
   "metadata": {},
   "outputs": [],
   "source": [
    "#pip install pomegranate"
   ]
  },
  {
   "cell_type": "code",
   "execution_count": 2,
   "id": "a5769afb",
   "metadata": {},
   "outputs": [],
   "source": [
    "from protopunica import *"
   ]
  },
  {
   "cell_type": "markdown",
   "id": "9f6ea846",
   "metadata": {},
   "source": [
    "Protopunica is a python library that implements probabilistic models"
   ]
  },
  {
   "cell_type": "code",
   "execution_count": 4,
   "id": "ce2ebbeb",
   "metadata": {},
   "outputs": [],
   "source": [
    "smoking = Node(DiscreteDistribution({ \"High smoking\":0.7, \"Low smoking\":0.3 }),name = \"smoking\")    "
   ]
  },
  {
   "cell_type": "markdown",
   "id": "acd9b711",
   "metadata": {},
   "source": [
    "Smoking is root node and is not having any parent nodes. Smoking is a random variable the takes two values HIGH SMOKING and LOW SMOKING"
   ]
  },
  {
   "cell_type": "code",
   "execution_count": 5,
   "id": "a1dbceb7",
   "metadata": {},
   "outputs": [],
   "source": [
    "asbes_consum = Node(DiscreteDistribution({ \"High Cons\":0.3, \"Low Cons\":0.7}),name = \"asbes_consum\")"
   ]
  },
  {
   "cell_type": "raw",
   "id": "e5d12324",
   "metadata": {},
   "source": [
    "asbestos consumption is also a root node which is not having any parents and has two values,HIGH CONSUMPTION and LOW CONSUMPTION"
   ]
  },
  {
   "cell_type": "code",
   "execution_count": 7,
   "id": "cd46d892",
   "metadata": {},
   "outputs": [],
   "source": [
    "Cancer = Node(ConditionalProbabilityTable([\n",
    "    [\"High smoking\",\"High Cons\",\"Pos\",0.4],\n",
    "    [\"High smoking\",\"High Cons\",\"Neg\",0.6],\n",
    "    [\"High smoking\",\"Low Cons\",\"Pos\",0.3],\n",
    "    [\"High smoking\",\"Low Cons\",\"Neg\",0.7],\n",
    "    [\"Low smoking\",\"High Cons\",\"Pos\",0.1],\n",
    "    [\"Low smoking\",\"High Cons\",\"Neg\",0.9],\n",
    "    [\"Low smoking\",\"Low Cons\",\"Pos\",0.02],\n",
    "    [\"Low smoking\",\"Low Cons\",\"Neg\",0.98],\n",
    "],[smoking.distribution,asbes_consum.distribution]),name = \"Cancer\")"
   ]
  },
  {
   "cell_type": "markdown",
   "id": "75310d96",
   "metadata": {},
   "source": [
    "### Cancer is a random variable which is conditionally dependent on Smoking and asbestos. Cancer takes two values POS(positive) and NEG(negative). The values in the conditional probability table are mentioned as the last argument for each combination."
   ]
  },
  {
   "cell_type": "code",
   "execution_count": 8,
   "id": "16a9092e",
   "metadata": {},
   "outputs": [],
   "source": [
    "scan = Node(ConditionalProbabilityTable([\n",
    "    [\"Pos\",\"scan_pos\",0.8],\n",
    "    [\"Pos\",\"scan_neg\",0.2],\n",
    "    [\"Neg\",\"scan_pos\",0.1],\n",
    "    [\"Neg\",\"scan_neg\",0.9]\n",
    "],[Cancer.distribution]),name = \"scan\")"
   ]
  },
  {
   "cell_type": "raw",
   "id": "fc93914d",
   "metadata": {},
   "source": [
    "scan(X-ray) is conditionally dependent on cancer. If there is cancer, there is a chance that the x-ray might reveal it. It takes two values Pos and Negative."
   ]
  },
  {
   "cell_type": "code",
   "execution_count": 20,
   "id": "7373b320",
   "metadata": {},
   "outputs": [],
   "source": [
    "Blood_vomiting = Node(ConditionalProbabilityTable([\n",
    "    [\"Pos\",\"B.V_Pos\",0.7],\n",
    "    [\"Pos\",\"B.V_Pos\",0.3],\n",
    "    [\"Neg\",\"B.V_Neg\",0.2],\n",
    "    [\"Neg\",\"B.V_Neg\",0.9]\n",
    "],[Cancer.distribution]),name = \"Blood_vomiting\")"
   ]
  },
  {
   "cell_type": "markdown",
   "id": "22cc73d6",
   "metadata": {},
   "source": [
    "Patient suffers from blood vomitings. Blood vomitings takes two values B.V pos(Yes he has blood vomitings) and B.V neg(NO he is not having any)"
   ]
  },
  {
   "cell_type": "markdown",
   "id": "352d84aa",
   "metadata": {},
   "source": [
    "# 3.Model the Bayesian_Network"
   ]
  },
  {
   "cell_type": "code",
   "execution_count": 11,
   "id": "eef8d520",
   "metadata": {},
   "outputs": [],
   "source": [
    "model = BayesianNetwork() "
   ]
  },
  {
   "cell_type": "markdown",
   "id": "15b8a9d9",
   "metadata": {},
   "source": [
    "### Add all the nodes for the bayesian network"
   ]
  },
  {
   "cell_type": "code",
   "execution_count": 15,
   "id": "b591b569",
   "metadata": {},
   "outputs": [],
   "source": [
    "model.add_states(smoking,asbes_consum,Cancer,scan,Blood_vomiting)"
   ]
  },
  {
   "cell_type": "markdown",
   "id": "db95c4ab",
   "metadata": {},
   "source": [
    "### Create the edges which state the condititonal independence and dependence "
   ]
  },
  {
   "cell_type": "code",
   "execution_count": 18,
   "id": "ccdb2da1",
   "metadata": {},
   "outputs": [],
   "source": [
    "model.add_edge(smoking,Cancer)\n",
    "model.add_edge(asbes_consum,Cancer)\n",
    "model.add_edge(Cancer,scan)\n",
    "model.add_edge(Cancer,Blood_vomiting)"
   ]
  },
  {
   "cell_type": "markdown",
   "id": "740c93f2",
   "metadata": {},
   "source": [
    "## Bake the model"
   ]
  },
  {
   "cell_type": "code",
   "execution_count": 21,
   "id": "5dc39aa5",
   "metadata": {},
   "outputs": [],
   "source": [
    "model.bake()"
   ]
  },
  {
   "cell_type": "code",
   "execution_count": 22,
   "id": "d770a9c5",
   "metadata": {},
   "outputs": [
    {
     "data": {
      "text/plain": [
       "{\n",
       "    \"class\" : \"BayesianNetwork\",\n",
       "    \"name\" : \"2698225801472\",\n",
       "    \"structure\" : [\n",
       "        [],\n",
       "        [],\n",
       "        [\n",
       "            0,\n",
       "            1\n",
       "        ],\n",
       "        [\n",
       "            2\n",
       "        ],\n",
       "        [\n",
       "            2\n",
       "        ]\n",
       "    ],\n",
       "    \"states\" : [\n",
       "        {\n",
       "            \"class\" : \"State\",\n",
       "            \"distribution\" : {\n",
       "                \"class\" : \"Distribution\",\n",
       "                \"dtype\" : \"str\",\n",
       "                \"name\" : \"DiscreteDistribution\",\n",
       "                \"parameters\" : [\n",
       "                    {\n",
       "                        \"High smoking\" : 0.7,\n",
       "                        \"Low smoking\" : 0.3\n",
       "                    }\n",
       "                ],\n",
       "                \"frozen\" : false\n",
       "            },\n",
       "            \"name\" : \"smoking\",\n",
       "            \"weight\" : 1.0\n",
       "        },\n",
       "        {\n",
       "            \"class\" : \"State\",\n",
       "            \"distribution\" : {\n",
       "                \"class\" : \"Distribution\",\n",
       "                \"dtype\" : null,\n",
       "                \"name\" : \"DiscreteDistribution\",\n",
       "                \"parameters\" : [\n",
       "                    {}\n",
       "                ],\n",
       "                \"frozen\" : false\n",
       "            },\n",
       "            \"name\" : \"e62c445d-8300-49cd-9595-82e993ce3554\",\n",
       "            \"weight\" : 1.0\n",
       "        },\n",
       "        {\n",
       "            \"class\" : \"State\",\n",
       "            \"distribution\" : {\n",
       "                \"class\" : \"Distribution\",\n",
       "                \"name\" : \"ConditionalProbabilityTable\",\n",
       "                \"table\" : [\n",
       "                    [\n",
       "                        \"High smoking\",\n",
       "                        \"High Cons\",\n",
       "                        \"Pos\",\n",
       "                        \"0.4\"\n",
       "                    ],\n",
       "                    [\n",
       "                        \"High smoking\",\n",
       "                        \"High Cons\",\n",
       "                        \"Neg\",\n",
       "                        \"0.6\"\n",
       "                    ],\n",
       "                    [\n",
       "                        \"High smoking\",\n",
       "                        \"Low Cons\",\n",
       "                        \"Pos\",\n",
       "                        \"0.3\"\n",
       "                    ],\n",
       "                    [\n",
       "                        \"High smoking\",\n",
       "                        \"Low Cons\",\n",
       "                        \"Neg\",\n",
       "                        \"0.7\"\n",
       "                    ],\n",
       "                    [\n",
       "                        \"Low smoking\",\n",
       "                        \"High Cons\",\n",
       "                        \"Pos\",\n",
       "                        \"0.10000000000000002\"\n",
       "                    ],\n",
       "                    [\n",
       "                        \"Low smoking\",\n",
       "                        \"High Cons\",\n",
       "                        \"Neg\",\n",
       "                        \"0.9\"\n",
       "                    ],\n",
       "                    [\n",
       "                        \"Low smoking\",\n",
       "                        \"Low Cons\",\n",
       "                        \"Pos\",\n",
       "                        \"0.02\"\n",
       "                    ],\n",
       "                    [\n",
       "                        \"Low smoking\",\n",
       "                        \"Low Cons\",\n",
       "                        \"Neg\",\n",
       "                        \"0.98\"\n",
       "                    ]\n",
       "                ],\n",
       "                \"dtypes\" : [\n",
       "                    \"str\",\n",
       "                    \"str\",\n",
       "                    \"str\",\n",
       "                    \"float\"\n",
       "                ],\n",
       "                \"parents\" : [\n",
       "                    {\n",
       "                        \"class\" : \"Distribution\",\n",
       "                        \"dtype\" : \"str\",\n",
       "                        \"name\" : \"DiscreteDistribution\",\n",
       "                        \"parameters\" : [\n",
       "                            {\n",
       "                                \"High smoking\" : 0.7,\n",
       "                                \"Low smoking\" : 0.3\n",
       "                            }\n",
       "                        ],\n",
       "                        \"frozen\" : false\n",
       "                    },\n",
       "                    {\n",
       "                        \"class\" : \"Distribution\",\n",
       "                        \"dtype\" : null,\n",
       "                        \"name\" : \"DiscreteDistribution\",\n",
       "                        \"parameters\" : [\n",
       "                            {}\n",
       "                        ],\n",
       "                        \"frozen\" : false\n",
       "                    }\n",
       "                ]\n",
       "            },\n",
       "            \"name\" : \"Cancer\",\n",
       "            \"weight\" : 1.0\n",
       "        },\n",
       "        {\n",
       "            \"class\" : \"State\",\n",
       "            \"distribution\" : {\n",
       "                \"class\" : \"Distribution\",\n",
       "                \"name\" : \"ConditionalProbabilityTable\",\n",
       "                \"table\" : [\n",
       "                    [\n",
       "                        \"Pos\",\n",
       "                        \"scan_pos\",\n",
       "                        \"0.7\"\n",
       "                    ],\n",
       "                    [\n",
       "                        \"Pos\",\n",
       "                        \"scan_neg\",\n",
       "                        \"0.2\"\n",
       "                    ],\n",
       "                    [\n",
       "                        \"Neg\",\n",
       "                        \"scan_pos\",\n",
       "                        \"0.10000000000000002\"\n",
       "                    ],\n",
       "                    [\n",
       "                        \"Neg\",\n",
       "                        \"scan_neg\",\n",
       "                        \"0.9\"\n",
       "                    ]\n",
       "                ],\n",
       "                \"dtypes\" : [\n",
       "                    \"str\",\n",
       "                    \"str\",\n",
       "                    \"float\"\n",
       "                ],\n",
       "                \"parents\" : [\n",
       "                    {\n",
       "                        \"class\" : \"Distribution\",\n",
       "                        \"name\" : \"ConditionalProbabilityTable\",\n",
       "                        \"table\" : [],\n",
       "                        \"dtypes\" : [\n",
       "                            \"str\",\n",
       "                            \"str\",\n",
       "                            \"str\",\n",
       "                            \"float\"\n",
       "                        ],\n",
       "                        \"parents\" : [\n",
       "                            {\n",
       "                                \"class\" : \"Distribution\",\n",
       "                                \"dtype\" : \"str\",\n",
       "                                \"name\" : \"DiscreteDistribution\",\n",
       "                                \"parameters\" : [\n",
       "                                    {\n",
       "                                        \"High smoking\" : 0.7,\n",
       "                                        \"Low smoking\" : 0.3\n",
       "                                    }\n",
       "                                ],\n",
       "                                \"frozen\" : false\n",
       "                            },\n",
       "                            {\n",
       "                                \"class\" : \"Distribution\",\n",
       "                                \"dtype\" : null,\n",
       "                                \"name\" : \"DiscreteDistribution\",\n",
       "                                \"parameters\" : [\n",
       "                                    {}\n",
       "                                ],\n",
       "                                \"frozen\" : false\n",
       "                            }\n",
       "                        ]\n",
       "                    }\n",
       "                ]\n",
       "            },\n",
       "            \"name\" : \"scan\",\n",
       "            \"weight\" : 1.0\n",
       "        },\n",
       "        {\n",
       "            \"class\" : \"State\",\n",
       "            \"distribution\" : {\n",
       "                \"class\" : \"Distribution\",\n",
       "                \"name\" : \"ConditionalProbabilityTable\",\n",
       "                \"table\" : [\n",
       "                    [\n",
       "                        \"Pos\",\n",
       "                        \"B.V_pos\",\n",
       "                        \"0.3\"\n",
       "                    ],\n",
       "                    [\n",
       "                        \"Neg\",\n",
       "                        \"B.V_neg\",\n",
       "                        \"0.9\"\n",
       "                    ]\n",
       "                ],\n",
       "                \"dtypes\" : [\n",
       "                    \"str\",\n",
       "                    \"str\",\n",
       "                    \"float\"\n",
       "                ],\n",
       "                \"parents\" : [\n",
       "                    {\n",
       "                        \"class\" : \"Distribution\",\n",
       "                        \"name\" : \"ConditionalProbabilityTable\",\n",
       "                        \"table\" : [],\n",
       "                        \"dtypes\" : [\n",
       "                            \"str\",\n",
       "                            \"str\",\n",
       "                            \"str\",\n",
       "                            \"float\"\n",
       "                        ],\n",
       "                        \"parents\" : [\n",
       "                            {\n",
       "                                \"class\" : \"Distribution\",\n",
       "                                \"dtype\" : \"str\",\n",
       "                                \"name\" : \"DiscreteDistribution\",\n",
       "                                \"parameters\" : [\n",
       "                                    {\n",
       "                                        \"High smoking\" : 0.7,\n",
       "                                        \"Low smoking\" : 0.3\n",
       "                                    }\n",
       "                                ],\n",
       "                                \"frozen\" : false\n",
       "                            },\n",
       "                            {\n",
       "                                \"class\" : \"Distribution\",\n",
       "                                \"dtype\" : null,\n",
       "                                \"name\" : \"DiscreteDistribution\",\n",
       "                                \"parameters\" : [\n",
       "                                    {}\n",
       "                                ],\n",
       "                                \"frozen\" : false\n",
       "                            }\n",
       "                        ]\n",
       "                    }\n",
       "                ]\n",
       "            },\n",
       "            \"name\" : \"Blood_vomiting\",\n",
       "            \"weight\" : 1.0\n",
       "        }\n",
       "    ]\n",
       "}"
      ]
     },
     "execution_count": 22,
     "metadata": {},
     "output_type": "execute_result"
    }
   ],
   "source": [
    "model"
   ]
  },
  {
   "cell_type": "code",
   "execution_count": null,
   "id": "898bd1db",
   "metadata": {},
   "outputs": [],
   "source": []
  }
 ],
 "metadata": {
  "kernelspec": {
   "display_name": "Python 3 (ipykernel)",
   "language": "python",
   "name": "python3"
  },
  "language_info": {
   "codemirror_mode": {
    "name": "ipython",
    "version": 3
   },
   "file_extension": ".py",
   "mimetype": "text/x-python",
   "name": "python",
   "nbconvert_exporter": "python",
   "pygments_lexer": "ipython3",
   "version": "3.11.4"
  }
 },
 "nbformat": 4,
 "nbformat_minor": 5
}
