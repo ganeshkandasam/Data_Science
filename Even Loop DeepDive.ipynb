{
 "cells": [
  {
   "cell_type": "code",
   "execution_count": null,
   "id": "cf56a23b",
   "metadata": {},
   "outputs": [],
   "source": [
    "import pygame, sys \n",
    "from pygame.locals import *\n",
    "\n",
    "catx = 10\n",
    "caty = 10\n",
    "screen = 0\n",
    "\n",
    "def myquit():\n",
    "    #Self explanatory\n",
    "    pygame.quit()\n",
    "    sys.exit(0)\n",
    "    \n",
    "def check_inputs(events):\n",
    "    global catx,caty,screen\n",
    "    #Function to handle events, particularly quitting the programe\n",
    "    for event in events:\n",
    "        if event.type == QUIT:\n",
    "            quit()\n",
    "        else:\n",
    "            if event.type == KEYDOWN:\n",
    "                if event.key == K_ESCAPE:\n",
    "                    myquit()\n",
    "                elif event.key == K_LEFT:\n",
    "                    catx -=5\n",
    "                    print (\"Move Rect left\")\n",
    "                elif event.key == K_RIGHT:\n",
    "                    catx +=5\n",
    "                    print (\"Move Rect right\")\n",
    "                else:\n",
    "                    print (event.key)\n",
    "    screen.fill((0,0,0))\n",
    "    pygame.draw.rect(screen,(255,255,255),(catx,50,50,10))\n",
    "    pygame.display.update()\n",
    "    \n",
    "def main():\n",
    "    global screen\n",
    "    # Intialize Pygame\n",
    "    pygame.init()\n",
    "    # Set up screen\n",
    "    SCREEN_WIDTH = 600\n",
    "    SCREEN_HEIGHT = 480\n",
    "    window = pygame.display.set_mode((SCREEN_WIDTH, SCREEN_HEIGHT))\n",
    "    pygame.display.set_caption('Slither.eat - The Snake Game') # Set \n",
    "    screen = pygame.display.get_surface() #This is where images\n",
    "    \n",
    "    pygame.display.update()\n",
    "    \n",
    "    while True:\n",
    "        check_inputs(pygame.event.get())\n",
    "main()\n",
    "\n",
    "                    \n",
    "                    \n",
    "    "
   ]
  }
 ],
 "metadata": {
  "kernelspec": {
   "display_name": "Python 3 (ipykernel)",
   "language": "python",
   "name": "python3"
  },
  "language_info": {
   "codemirror_mode": {
    "name": "ipython",
    "version": 3
   },
   "file_extension": ".py",
   "mimetype": "text/x-python",
   "name": "python",
   "nbconvert_exporter": "python",
   "pygments_lexer": "ipython3",
   "version": "3.11.5"
  }
 },
 "nbformat": 4,
 "nbformat_minor": 5
}
