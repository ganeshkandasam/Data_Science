{
 "cells": [
  {
   "cell_type": "code",
   "execution_count": null,
   "id": "79b24b83",
   "metadata": {},
   "outputs": [],
   "source": [
    "import pygame, sys \n",
    "from pygame.locals import *\n",
    "\n",
    "red = [255, 0,0]\n",
    "\n",
    "pygame.init()\n",
    "DISPLAYSURF = pygame.display.set_mode((400, 300))\n",
    "\n",
    "pygame.display.set_caption('Slither.eat - The Snake Game')\n",
    "\n",
    "screen = pygame.display.set_surface()\n",
    "screen.fill(red)\n",
    "pygame.display.flip()\n",
    "\n",
    "while True:\n",
    "# main game loop\n",
    "    for event in pygame.event.get():        \n",
    "        print(event)\n",
    "        if.event.type.==.QUIT:\n",
    "            pygame.quit()\n",
    "            sys.exit()\n",
    "    pygame.display.update()\n",
    "        \n",
    "        "
   ]
  }
 ],
 "metadata": {
  "kernelspec": {
   "display_name": "Python 3 (ipykernel)",
   "language": "python",
   "name": "python3"
  },
  "language_info": {
   "codemirror_mode": {
    "name": "ipython",
    "version": 3
   },
   "file_extension": ".py",
   "mimetype": "text/x-python",
   "name": "python",
   "nbconvert_exporter": "python",
   "pygments_lexer": "ipython3",
   "version": "3.11.5"
  }
 },
 "nbformat": 4,
 "nbformat_minor": 5
}
