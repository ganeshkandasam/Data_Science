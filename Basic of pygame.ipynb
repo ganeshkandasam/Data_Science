{
 "cells": [
  {
   "cell_type": "code",
   "execution_count": 1,
   "id": "2852c455",
   "metadata": {},
   "outputs": [
    {
     "name": "stdout",
     "output_type": "stream",
     "text": [
      "Requirement already satisfied: pygame in c:\\users\\admin\\.conda\\lib\\site-packages (2.5.2)\n",
      "Note: you may need to restart the kernel to use updated packages.\n"
     ]
    }
   ],
   "source": [
    "pip install pygame"
   ]
  },
  {
   "cell_type": "code",
   "execution_count": null,
   "id": "6830d76f",
   "metadata": {},
   "outputs": [],
   "source": [
    "import pygame , sys ,os\n",
    "from pygame.locals import *  #load constants\n",
    "\n",
    "red = [255,0,0]\n",
    "\n",
    "# Initialize Pygame\n",
    "pygame.init()\n",
    "\n",
    "# Set up window\n",
    "window = pygame.display.set_mode((1000,600))\n",
    "pygame.display.set_caption('Slither.eat - The Snake Game')\n",
    "\n",
    "# Set up drawing surface\n",
    "screen = pygame.display.get_surface()\n",
    "screen.fill(red)\n",
    "pygame.display.set_caption(\"Snake\")\n",
    "pygame.display.flip()\n",
    "\n",
    "count = 0\n",
    "\n",
    "while True:\n",
    "    print (\"Slither.eat - The Snake Game!\")\n",
    "    pass\n",
    "\n"
   ]
  },
  {
   "cell_type": "code",
   "execution_count": null,
   "id": "29cd0ab6",
   "metadata": {},
   "outputs": [],
   "source": []
  }
 ],
 "metadata": {
  "kernelspec": {
   "display_name": "Python 3 (ipykernel)",
   "language": "python",
   "name": "python3"
  },
  "language_info": {
   "codemirror_mode": {
    "name": "ipython",
    "version": 3
   },
   "file_extension": ".py",
   "mimetype": "text/x-python",
   "name": "python",
   "nbconvert_exporter": "python",
   "pygments_lexer": "ipython3",
   "version": "3.11.4"
  }
 },
 "nbformat": 4,
 "nbformat_minor": 5
}
