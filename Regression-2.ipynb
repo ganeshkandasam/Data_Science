{
 "cells": [
  {
   "cell_type": "markdown",
   "id": "329101f6",
   "metadata": {},
   "source": [
    "# DATA PREPROCESSING "
   ]
  },
  {
   "cell_type": "code",
   "execution_count": null,
   "id": "e6096109",
   "metadata": {},
   "outputs": [],
   "source": [
    "import pandas as pd\n",
    "import seaborn as sb\n",
    "import numpy as np"
   ]
  },
  {
   "cell_type": "code",
   "execution_count": null,
   "id": "52c0e1a2",
   "metadata": {},
   "outputs": [],
   "source": [
    "tipp=sb.load_dataset(\"tips\")\n",
    "tipp"
   ]
  },
  {
   "cell_type": "code",
   "execution_count": null,
   "id": "8df5d8e5",
   "metadata": {},
   "outputs": [],
   "source": [
    "new_data=tipp.smoker.map({'Yes':'smoker','No':'Non_smoker'})"
   ]
  },
  {
   "cell_type": "code",
   "execution_count": null,
   "id": "f2fc051b",
   "metadata": {},
   "outputs": [],
   "source": [
    "new_data\n",
    "#print(type(new_data))"
   ]
  },
  {
   "cell_type": "code",
   "execution_count": null,
   "id": "cb96de0b",
   "metadata": {},
   "outputs": [],
   "source": [
    "print(type(new_data))"
   ]
  },
  {
   "cell_type": "markdown",
   "id": "0558dad1",
   "metadata": {},
   "source": [
    "# MISSING VALUE"
   ]
  },
  {
   "cell_type": "code",
   "execution_count": null,
   "id": "fd1725ab",
   "metadata": {},
   "outputs": [],
   "source": [
    "data=pd.DataFrame(tipp)\n",
    "data"
   ]
  },
  {
   "cell_type": "code",
   "execution_count": null,
   "id": "f6126111",
   "metadata": {},
   "outputs": [],
   "source": [
    "d=data.head(10)\n",
    "d"
   ]
  },
  {
   "cell_type": "code",
   "execution_count": null,
   "id": "efb53e89",
   "metadata": {},
   "outputs": [],
   "source": [
    "new=d.size.map({3:'none'})\n",
    "new"
   ]
  },
  {
   "cell_type": "code",
   "execution_count": null,
   "id": "9afabab4",
   "metadata": {},
   "outputs": [],
   "source": [
    "import sklearn as s"
   ]
  },
  {
   "cell_type": "code",
   "execution_count": null,
   "id": "6fece1a1",
   "metadata": {},
   "outputs": [],
   "source": [
    "from sklearn.impute import SimpleImputer "
   ]
  },
  {
   "cell_type": "code",
   "execution_count": null,
   "id": "368042dd",
   "metadata": {},
   "outputs": [],
   "source": [
    "imputer=SimpleImputer(missing_values=np.nan,strategty='mean')"
   ]
  },
  {
   "cell_type": "code",
   "execution_count": null,
   "id": "075732ac",
   "metadata": {},
   "outputs": [],
   "source": []
  }
 ],
 "metadata": {
  "kernelspec": {
   "display_name": "Python 3 (ipykernel)",
   "language": "python",
   "name": "python3"
  },
  "language_info": {
   "codemirror_mode": {
    "name": "ipython",
    "version": 3
   },
   "file_extension": ".py",
   "mimetype": "text/x-python",
   "name": "python",
   "nbconvert_exporter": "python",
   "pygments_lexer": "ipython3",
   "version": "3.11.4"
  }
 },
 "nbformat": 4,
 "nbformat_minor": 5
}
