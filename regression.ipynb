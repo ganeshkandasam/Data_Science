{
 "cells": [
  {
   "cell_type": "code",
   "execution_count": null,
   "id": "b7667c4e",
   "metadata": {},
   "outputs": [],
   "source": [
    "import seaborn as sb"
   ]
  },
  {
   "cell_type": "code",
   "execution_count": null,
   "id": "eb2631be",
   "metadata": {},
   "outputs": [],
   "source": [
    "a=sb.get_dataset_names()\n",
    "a"
   ]
  },
  {
   "cell_type": "code",
   "execution_count": null,
   "id": "882d5ba9",
   "metadata": {},
   "outputs": [],
   "source": [
    "tipp=sb.load_dataset(\"tIps\")\n",
    "tipp"
   ]
  },
  {
   "cell_type": "code",
   "execution_count": null,
   "id": "69212d18",
   "metadata": {},
   "outputs": [],
   "source": [
    "sb.regplot(x='total_bill',y='tip',data=tipp)"
   ]
  },
  {
   "cell_type": "code",
   "execution_count": null,
   "id": "fd1d7dcf",
   "metadata": {},
   "outputs": [],
   "source": []
  }
 ],
 "metadata": {
  "kernelspec": {
   "display_name": "Python 3 (ipykernel)",
   "language": "python",
   "name": "python3"
  },
  "language_info": {
   "codemirror_mode": {
    "name": "ipython",
    "version": 3
   },
   "file_extension": ".py",
   "mimetype": "text/x-python",
   "name": "python",
   "nbconvert_exporter": "python",
   "pygments_lexer": "ipython3",
   "version": "3.11.4"
  }
 },
 "nbformat": 4,
 "nbformat_minor": 5
}
