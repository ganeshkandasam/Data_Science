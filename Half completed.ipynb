{
 "cells": [
  {
   "cell_type": "markdown",
   "id": "b6dc0dc9",
   "metadata": {},
   "source": [
    "# Our dear friend mark who lives in california plays soccer in a club named spinoff. Since he is new to california and he loves pets, he bought a cat. Mark is a student who studies in California state University (CSU)."
   ]
  },
  {
   "cell_type": "code",
   "execution_count": null,
   "id": "4b4af9c7",
   "metadata": {},
   "outputs": [],
   "source": [
    "pip install matplotlib"
   ]
  },
  {
   "cell_type": "code",
   "execution_count": null,
   "id": "5c1d8a7a",
   "metadata": {},
   "outputs": [],
   "source": [
    "pip install networkx"
   ]
  },
  {
   "cell_type": "code",
   "execution_count": 1,
   "id": "3be03b63",
   "metadata": {},
   "outputs": [],
   "source": [
    "import networkx as nx"
   ]
  },
  {
   "cell_type": "code",
   "execution_count": 2,
   "id": "4f839d44",
   "metadata": {},
   "outputs": [],
   "source": [
    "import matplotlib.pyplot as plt\n",
    "%matplotlib notebook"
   ]
  },
  {
   "cell_type": "markdown",
   "id": "d3a3553e",
   "metadata": {},
   "source": [
    "### 2.Create a Directed Graph"
   ]
  },
  {
   "cell_type": "code",
   "execution_count": 3,
   "id": "32100aa5",
   "metadata": {},
   "outputs": [],
   "source": [
    "graph_Mark = nx.DiGraph(Info = \"Mark's Details\")"
   ]
  },
  {
   "cell_type": "markdown",
   "id": "27d03f7b",
   "metadata": {},
   "source": [
    "# 3.Create Nodes along with Positions"
   ]
  },
  {
   "cell_type": "code",
   "execution_count": 4,
   "id": "7a8d70ab",
   "metadata": {},
   "outputs": [],
   "source": [
    "graph_Mark.add_node(\"Mark\",pos = (0,0))\n",
    "graph_Mark.add_node(\"Cat\",pos = (-2,6))\n",
    "graph_Mark.add_node(\"student\",pos = (2,-5))\n",
    "graph_Mark.add_node(\"animal\",pos = (1,6))\n",
    "graph_Mark.add_node(\"California\",pos = (4,6))\n",
    "graph_Mark.add_node(\"Spinoff\",pos = (-5,-5))\n",
    "graph_Mark.add_node(\"Soccer\",pos = (-5,2))\n",
    "graph_Mark.add_node(\"Sports Club\",pos = (0,-8))\n",
    "graph_Mark.add_node(\"CSU\",pos = (5,-1))\n",
    "pos = nx.get_node_attributes(graph_Mark,\"pos\")"
   ]
  },
  {
   "cell_type": "markdown",
   "id": "1466349b",
   "metadata": {},
   "source": [
    "# 4.Create Edges with weights (Relationships)"
   ]
  },
  {
   "cell_type": "code",
   "execution_count": null,
   "id": "fe4a9cdd",
   "metadata": {},
   "outputs": [],
   "source": [
    "graph_Mark.add_edge(\"Mark\",\"Cat\",weight = \"has a\")\n",
    "graph_Mark.add_edge(\"Mark\",\"student\",weight = \"is a \")\n",
    "graph_Mark.add_edge(\"Cat\",\"animal\",weight = \"is a\")\n",
    "graph_Mark.add_edge(\"Mark\",\"Soccer\",weight = \"\")\n",
    "graph_Mark.add_edge(\"Mark\",\"Spinoff\",weight = \"\")\n",
    "graph_Mark.add_edge(\"Mark\",\"California\",weight = \"\")\n",
    "graph_Mark.add_edge(\"Mark\",\"animal\",weight = \"\")\n",
    "graph_Mark.add_edge(\"student\",\"CSU\",weight = \"\")\n",
    "graph_Mark.add_edge(\"Spinoff\",\"Sports Club\",weight = \"\")\n",
    "graph_Mark.add_edge(\"CSU\",\"California\",weight = \"\")\n"
   ]
  }
 ],
 "metadata": {
  "kernelspec": {
   "display_name": "Python 3 (ipykernel)",
   "language": "python",
   "name": "python3"
  },
  "language_info": {
   "codemirror_mode": {
    "name": "ipython",
    "version": 3
   },
   "file_extension": ".py",
   "mimetype": "text/x-python",
   "name": "python",
   "nbconvert_exporter": "python",
   "pygments_lexer": "ipython3",
   "version": "3.11.4"
  }
 },
 "nbformat": 4,
 "nbformat_minor": 5
}
