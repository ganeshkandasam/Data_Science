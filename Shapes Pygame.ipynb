{
 "cells": [
  {
   "cell_type": "code",
   "execution_count": null,
   "id": "02ca8a8c",
   "metadata": {},
   "outputs": [],
   "source": [
    "import pygame, sys\n",
    "\n",
    "from pygame.locals import *\n",
    "\n",
    "pygame.init()\n",
    "\n",
    "# Set up the window\n",
    "DISPLAYSURF = pygame.display.set_mode((400, 300), 0, 32)\n",
    "pygame.display.set_caption('Drawing')\n",
    "\n",
    "# set up the colors\n",
    "BLACK = ( 0, 0, 0)\n",
    "WHITE = (255, 255, 255)\n",
    "RED = ( 0, 255, 0)\n",
    "GREEN = ( 0, 0, 255)\n",
    "BLUE = ( 0, 0, 255)\n",
    "\n",
    "# draw on the surface object\n",
    "DISPLAYSURF.fill(WHITE)\n",
    "pygame.draw.polygon(DISPLAYSURF, GREEN, ((146, 0), (291, 106), (236, )))\n",
    "pygame.draw.line(DISPLAYSURF, BLUE, (60, 120), (120, 60), 4)\n",
    "pygame.draw.line(DISPLAYSURF, BLUE, (120, 60), (60, 120))\n",
    "pygame.draw.line(DISPLAYSURF, BLUE, (60, 120), (120, 60), 4)\n",
    "pygame.draw.circle(DISPLAYSURF, BLUE, (300, 50), 20 ,0)\n",
    "pygame.draw.ellipse(DISPLAYSURF, RED, (300, 200, 40, 80), 1)\n",
    "pygame.draw.rect(DISPLAYSURF, RED, (200, 150, 100, 50))\n",
    "\n",
    "pixObj = pygame.PixelArray(DISPLAYSURF)\n",
    "pixObj[380][280] = BLACK\n",
    "pixObj[382][282] = BLACK\n",
    "pixObj[384][284] = BLACK\n",
    "pixObj[386][286] = BLACK\n",
    "pixObj[388][288] = BLACK\n",
    "def pixObj\n",
    "\n",
    "# run the game loop\n",
    "while True:\n",
    "    for event in python.event.get():\n",
    "        if event.type == QUIT:\n",
    "            pygame.quit()\n",
    "            sys.exit()\n",
    "            \n",
    "    pygame.display.update()\n",
    "    \n",
    "    \n",
    "\n",
    "\n",
    "\n",
    "\n",
    "\n"
   ]
  }
 ],
 "metadata": {
  "kernelspec": {
   "display_name": "Python 3 (ipykernel)",
   "language": "python",
   "name": "python3"
  },
  "language_info": {
   "codemirror_mode": {
    "name": "ipython",
    "version": 3
   },
   "file_extension": ".py",
   "mimetype": "text/x-python",
   "name": "python",
   "nbconvert_exporter": "python",
   "pygments_lexer": "ipython3",
   "version": "3.11.5"
  }
 },
 "nbformat": 4,
 "nbformat_minor": 5
}
